{
 "cells": [
  {
   "cell_type": "markdown",
   "metadata": {},
   "source": [
    "Yesterday: dramatically reduced processing time for persistence image creation.  \n",
    "\n",
    "To do today: \n",
    "- Reorganize repo to adhere to data science project framework\n",
    "- Create distance metric for persistence images \n",
    "- Batch process multiple neurons \n",
    "- Perform cluster analysis "
   ]
  },
  {
   "cell_type": "markdown",
   "metadata": {},
   "source": [
    "Side-by-side plots of morphology and persistence images for Bacci dataset"
   ]
  },
  {
   "cell_type": "code",
   "execution_count": null,
   "metadata": {},
   "outputs": [],
   "source": []
  },
  {
   "cell_type": "code",
   "execution_count": 1,
   "metadata": {},
   "outputs": [
    {
     "name": "stdout",
     "output_type": "stream",
     "text": [
      "/Users/User1/Library/Jupyter/extensions\n"
     ]
    }
   ],
   "source": [
    "import os\n",
    "from jupyter_core.paths import jupyter_data_dir\n",
    "ext_dir = os.path.join(jupyter_data_dir(), 'extensions')\n",
    "print(ext_dir)"
   ]
  },
  {
   "cell_type": "code",
   "execution_count": 4,
   "metadata": {},
   "outputs": [
    {
     "name": "stdout",
     "output_type": "stream",
     "text": [
      "\u001b[36mkernels\u001b[m\u001b[m/         nbsignatures.db  \u001b[36mruntime\u001b[m\u001b[m/\n",
      "\u001b[36mnbextensions\u001b[m\u001b[m/    notebook_secret\n"
     ]
    }
   ],
   "source": [
    "ls /Users/User1/Library/Jupyter/"
   ]
  },
  {
   "cell_type": "code",
   "execution_count": 5,
   "metadata": {},
   "outputs": [
    {
     "name": "stdout",
     "output_type": "stream",
     "text": [
      "\u001b[36maddbefore\u001b[m\u001b[m/                      \u001b[36mlimit_output\u001b[m\u001b[m/\n",
      "\u001b[36mautosavetime\u001b[m\u001b[m/                   \u001b[36mmove_selected_cells\u001b[m\u001b[m/\n",
      "\u001b[36mautoscroll\u001b[m\u001b[m/                     \u001b[36mnavigation-hotkeys\u001b[m\u001b[m/\n",
      "\u001b[36mchrome-clipboard\u001b[m\u001b[m/               \u001b[36mnbTranslate\u001b[m\u001b[m/\n",
      "\u001b[36mcode_font_size\u001b[m\u001b[m/                 \u001b[36mnotify\u001b[m\u001b[m/\n",
      "\u001b[36mcode_prettify\u001b[m\u001b[m/                  \u001b[36mprintview\u001b[m\u001b[m/\n",
      "\u001b[36mcodefolding\u001b[m\u001b[m/                    \u001b[36mpython-markdown\u001b[m\u001b[m/\n",
      "\u001b[36mcollapsible_headings\u001b[m\u001b[m/           \u001b[36mqtconsole\u001b[m\u001b[m/\n",
      "\u001b[36mcomment-uncomment\u001b[m\u001b[m/              \u001b[36mrubberband\u001b[m\u001b[m/\n",
      "\u001b[36mcontrib_nbextensions_help_item\u001b[m\u001b[m/ \u001b[36mruler\u001b[m\u001b[m/\n",
      "\u001b[36mdatestamper\u001b[m\u001b[m/                    \u001b[36mruntools\u001b[m\u001b[m/\n",
      "\u001b[36mdragdrop\u001b[m\u001b[m/                       \u001b[36mscratchpad\u001b[m\u001b[m/\n",
      "\u001b[36mequation-numbering\u001b[m\u001b[m/             \u001b[36mscroll_down\u001b[m\u001b[m/\n",
      "\u001b[36mexecute_time\u001b[m\u001b[m/                   \u001b[36msearch-replace\u001b[m\u001b[m/\n",
      "\u001b[36mexercise\u001b[m\u001b[m/                       \u001b[36mselect_keymap\u001b[m\u001b[m/\n",
      "\u001b[36mexercise2\u001b[m\u001b[m/                      \u001b[36mskill\u001b[m\u001b[m/\n",
      "\u001b[36mfreeze\u001b[m\u001b[m/                         \u001b[36mskip-traceback\u001b[m\u001b[m/\n",
      "\u001b[36mgist_it\u001b[m\u001b[m/                        \u001b[36msnippets\u001b[m\u001b[m/\n",
      "\u001b[36mhelp_panel\u001b[m\u001b[m/                     \u001b[36msnippets_menu\u001b[m\u001b[m/\n",
      "\u001b[36mhide_input\u001b[m\u001b[m/                     \u001b[36mspellchecker\u001b[m\u001b[m/\n",
      "\u001b[36mhide_input_all\u001b[m\u001b[m/                 \u001b[36msplitcell\u001b[m\u001b[m/\n",
      "\u001b[36mhighlight_selected_word\u001b[m\u001b[m/        \u001b[36mtable_beautifier\u001b[m\u001b[m/\n",
      "\u001b[36mhighlighter\u001b[m\u001b[m/                    \u001b[36mtoc2\u001b[m\u001b[m/\n",
      "\u001b[36mhinterland\u001b[m\u001b[m/                     \u001b[36mtoggle_all_line_numbers\u001b[m\u001b[m/\n",
      "\u001b[36minit_cell\u001b[m\u001b[m/                      \u001b[36mtree-filter\u001b[m\u001b[m/\n",
      "\u001b[36mkeyboard_shortcut_editor\u001b[m\u001b[m/       \u001b[36mzenmode\u001b[m\u001b[m/\n",
      "\u001b[36mlatex_envs\u001b[m\u001b[m/\n"
     ]
    }
   ],
   "source": [
    "ls /Users/User1/Library/Jupyter/nbextensions/"
   ]
  },
  {
   "cell_type": "code",
   "execution_count": 6,
   "metadata": {},
   "outputs": [
    {
     "name": "stdout",
     "output_type": "stream",
     "text": [
      "/Users/User1/Library/Jupyter/nbextensions\n"
     ]
    }
   ],
   "source": [
    "cd /Users/User1/Library/Jupyter/nbextensions/"
   ]
  },
  {
   "cell_type": "code",
   "execution_count": 7,
   "metadata": {},
   "outputs": [
    {
     "name": "stdout",
     "output_type": "stream",
     "text": [
      "icon.png   main.js    main.yaml  readme.md\n"
     ]
    }
   ],
   "source": [
    "ls datestamper/"
   ]
  },
  {
   "cell_type": "code",
   "execution_count": 12,
   "metadata": {},
   "outputs": [
    {
     "name": "stdout",
     "output_type": "stream",
     "text": [
      "CPU times: user 5 µs, sys: 1e+03 ns, total: 6 µs\n",
      "Wall time: 11 µs\n"
     ]
    }
   ],
   "source": [
    "%time \n",
    "x = 5**10"
   ]
  },
  {
   "cell_type": "code",
   "execution_count": 13,
   "metadata": {},
   "outputs": [
    {
     "data": {
      "text/plain": [
       "9765625"
      ]
     },
     "execution_count": 13,
     "metadata": {},
     "output_type": "execute_result"
    }
   ],
   "source": [
    "x"
   ]
  },
  {
   "cell_type": "code",
   "execution_count": null,
   "metadata": {},
   "outputs": [],
   "source": []
  }
 ],
 "metadata": {
  "kernelspec": {
   "display_name": "Python [conda env:python3]",
   "language": "python",
   "name": "conda-env-python3-py"
  },
  "language_info": {
   "codemirror_mode": {
    "name": "ipython",
    "version": 3
   },
   "file_extension": ".py",
   "mimetype": "text/x-python",
   "name": "python",
   "nbconvert_exporter": "python",
   "pygments_lexer": "ipython3",
   "version": "3.6.4"
  }
 },
 "nbformat": 4,
 "nbformat_minor": 2
}
