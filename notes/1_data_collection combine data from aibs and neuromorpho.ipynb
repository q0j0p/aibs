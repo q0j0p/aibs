{
 "cells": [
  {
   "cell_type": "code",
   "execution_count": 40,
   "metadata": {
    "ExecuteTime": {
     "end_time": "2018-03-02T20:28:10.406792Z",
     "start_time": "2018-03-02T20:28:10.239409Z"
    }
   },
   "outputs": [],
   "source": [
    "import pymongo \n",
    "import pandas as pd"
   ]
  },
  {
   "cell_type": "code",
   "execution_count": 19,
   "metadata": {
    "ExecuteTime": {
     "end_time": "2018-03-02T03:45:16.349716Z",
     "start_time": "2018-03-02T03:45:16.247885Z"
    }
   },
   "outputs": [],
   "source": [
    "client = pymongo.MongoClient('mongodb://localhost:27017')\n",
    "\n",
    "db = client.aibs\n",
    "coll = db.nmorpho"
   ]
  },
  {
   "cell_type": "code",
   "execution_count": 21,
   "metadata": {
    "ExecuteTime": {
     "end_time": "2018-03-02T03:45:18.957989Z",
     "start_time": "2018-03-02T03:45:18.851164Z"
    }
   },
   "outputs": [
    {
     "data": {
      "text/plain": [
       "0"
      ]
     },
     "execution_count": 21,
     "metadata": {},
     "output_type": "execute_result"
    }
   ],
   "source": [
    "coll.count()"
   ]
  },
  {
   "cell_type": "code",
   "execution_count": 24,
   "metadata": {
    "ExecuteTime": {
     "end_time": "2018-03-02T03:46:01.813807Z",
     "start_time": "2018-03-02T03:46:01.767590Z"
    }
   },
   "outputs": [],
   "source": [
    "n_coll = db.neurons"
   ]
  },
  {
   "cell_type": "code",
   "execution_count": 25,
   "metadata": {
    "ExecuteTime": {
     "end_time": "2018-03-02T03:46:08.551139Z",
     "start_time": "2018-03-02T03:46:08.513149Z"
    }
   },
   "outputs": [
    {
     "data": {
      "text/plain": [
       "402"
      ]
     },
     "execution_count": 25,
     "metadata": {},
     "output_type": "execute_result"
    }
   ],
   "source": [
    "n_coll.count()"
   ]
  },
  {
   "cell_type": "code",
   "execution_count": 42,
   "metadata": {
    "ExecuteTime": {
     "end_time": "2018-03-02T20:28:36.584321Z",
     "start_time": "2018-03-02T20:28:35.679407Z"
    }
   },
   "outputs": [],
   "source": [
    "# Load pickled dataframes acquired from remote server database. \n",
    "morphology_df = pd.read_pickle('morphology_df')\n",
    "\n",
    "neurons_df = pd.read_pickle('neurons_df')\n",
    "\n",
    "nmorpho_df = pd.read_pickle('nmorpho_df')"
   ]
  },
  {
   "cell_type": "code",
   "execution_count": 73,
   "metadata": {
    "ExecuteTime": {
     "end_time": "2018-03-02T20:42:58.810412Z",
     "start_time": "2018-03-02T20:42:58.699263Z"
    }
   },
   "outputs": [],
   "source": [
    "db.create_collection('morphology')\n",
    "morphology_coll = db.morphology"
   ]
  },
  {
   "cell_type": "code",
   "execution_count": 103,
   "metadata": {
    "ExecuteTime": {
     "end_time": "2018-03-02T21:08:33.757776Z",
     "start_time": "2018-03-02T21:08:28.536055Z"
    }
   },
   "outputs": [
    {
     "data": {
      "text/plain": [
       "<pymongo.results.InsertManyResult at 0x11157c050>"
      ]
     },
     "execution_count": 103,
     "metadata": {},
     "output_type": "execute_result"
    }
   ],
   "source": [
    "morphology_coll.insert_many([a[1].to_dict() for a in morphology_df.drop('_id',axis=1).iterrows()])"
   ]
  },
  {
   "cell_type": "code",
   "execution_count": 104,
   "metadata": {
    "ExecuteTime": {
     "end_time": "2018-03-02T21:08:53.118913Z",
     "start_time": "2018-03-02T21:08:53.058142Z"
    }
   },
   "outputs": [
    {
     "data": {
      "text/plain": [
       "20568"
      ]
     },
     "execution_count": 104,
     "metadata": {},
     "output_type": "execute_result"
    }
   ],
   "source": [
    "morphology_coll.count()"
   ]
  },
  {
   "cell_type": "code",
   "execution_count": 68,
   "metadata": {
    "ExecuteTime": {
     "end_time": "2018-03-02T20:41:04.907616Z",
     "start_time": "2018-03-02T20:41:04.676617Z"
    }
   },
   "outputs": [
    {
     "data": {
      "text/plain": [
       "Collection(Database(MongoClient(host=['localhost:27017'], document_class=dict, tz_aware=False, connect=True), u'aibs'), u'nmorpho')"
      ]
     },
     "execution_count": 68,
     "metadata": {},
     "output_type": "execute_result"
    }
   ],
   "source": [
    "db.create_collection('nmorpho')"
   ]
  },
  {
   "cell_type": "code",
   "execution_count": 75,
   "metadata": {
    "ExecuteTime": {
     "end_time": "2018-03-02T20:44:57.814834Z",
     "start_time": "2018-03-02T20:44:57.764118Z"
    }
   },
   "outputs": [],
   "source": [
    "nmorpho_coll = db['nmorpho']"
   ]
  },
  {
   "cell_type": "code",
   "execution_count": 101,
   "metadata": {
    "ExecuteTime": {
     "end_time": "2018-03-02T21:07:10.367059Z",
     "start_time": "2018-03-02T21:07:01.995413Z"
    }
   },
   "outputs": [
    {
     "data": {
      "text/plain": [
       "<pymongo.results.InsertManyResult at 0x110a39be0>"
      ]
     },
     "execution_count": 101,
     "metadata": {},
     "output_type": "execute_result"
    }
   ],
   "source": [
    "nmorpho_coll.insert_many([a[1].to_dict() for a in nmorpho_df.drop('_id', axis=1).iterrows()])"
   ]
  },
  {
   "cell_type": "code",
   "execution_count": 77,
   "metadata": {
    "ExecuteTime": {
     "end_time": "2018-03-02T20:46:03.115914Z",
     "start_time": "2018-03-02T20:46:02.861075Z"
    }
   },
   "outputs": [],
   "source": [
    "temp = nmorpho_df.drop('_id', axis=1).to_dict()"
   ]
  },
  {
   "cell_type": "code",
   "execution_count": 105,
   "metadata": {
    "ExecuteTime": {
     "end_time": "2018-03-02T21:25:41.571313Z",
     "start_time": "2018-03-02T21:25:41.500747Z"
    }
   },
   "outputs": [
    {
     "data": {
      "text/plain": [
       "[u'nmorpho', u'morphology', u'neurons']"
      ]
     },
     "execution_count": 105,
     "metadata": {},
     "output_type": "execute_result"
    }
   ],
   "source": [
    "db.collection_names()"
   ]
  },
  {
   "cell_type": "code",
   "execution_count": 106,
   "metadata": {
    "ExecuteTime": {
     "end_time": "2018-03-02T21:26:04.021468Z",
     "start_time": "2018-03-02T21:26:03.975836Z"
    }
   },
   "outputs": [],
   "source": [
    "neurons_coll = db['neurons']"
   ]
  },
  {
   "cell_type": "code",
   "execution_count": 107,
   "metadata": {
    "ExecuteTime": {
     "end_time": "2018-03-02T21:26:45.603168Z",
     "start_time": "2018-03-02T21:26:45.492219Z"
    },
    "scrolled": false
   },
   "outputs": [
    {
     "data": {
      "text/plain": [
       "{u'_id': ObjectId('5a7e4a759d477a281bf4dbca'),\n",
       " u'apical': u'intact',\n",
       " u'cell_prep_sample_id': None,\n",
       " u'cell_reporter': {u'id': 491913824, u'name': u'cre reporter negative'},\n",
       " u'cell_reporter_id': 491913824,\n",
       " u'cell_soma_locations': [{u'id': 500915240,\n",
       "   u'normalized_depth': 0.602377718610363,\n",
       "   u'reference_space_id': 9,\n",
       "   u'specimen_id': 486111903,\n",
       "   u'x': 8484.28452993131,\n",
       "   u'y': 1018.82380442194,\n",
       "   u'z': 3454.08503673929}],\n",
       " u'cortex_layer_id': None,\n",
       " u'data': None,\n",
       " u'data_sets': [{u'blue_channel': None,\n",
       "   u'delegate': False,\n",
       "   u'expression': False,\n",
       "   u'failed': False,\n",
       "   u'failed_facet': 734881840,\n",
       "   u'green_channel': None,\n",
       "   u'id': 488961576,\n",
       "   u'name': u'T301-Ax.150909_01_C02_486111903',\n",
       "   u'plane_of_section_id': 1,\n",
       "   u'qc_date': None,\n",
       "   u'red_channel': None,\n",
       "   u'reference_space_id': 9,\n",
       "   u'rnaseq_design_id': None,\n",
       "   u'section_thickness': 0.28,\n",
       "   u'specimen_id': 486111903,\n",
       "   u'sphinx_id': 168768,\n",
       "   u'storage_directory': u'/external/mousecelltypes/prod541/image_series_488961576/',\n",
       "   u'weight': 5300}],\n",
       " u'dendrite_type': u'spiny',\n",
       " u'disease_categories': [],\n",
       " u'donor': {u'age_id': 20,\n",
       "  u'chemotherapy': None,\n",
       "  u'condition_description': None,\n",
       "  u'conditions': [],\n",
       "  u'data': None,\n",
       "  u'date_of_birth': u'2015-06-29T00:00:00Z',\n",
       "  u'donor_condition_description_facet': None,\n",
       "  u'donor_race_only_facet': None,\n",
       "  u'donor_sex_facet': 1306038106,\n",
       "  u'donor_strain_facet': None,\n",
       "  u'donor_strain_only_facet': None,\n",
       "  u'egfr_amplification': None,\n",
       "  u'extent_of_resection': None,\n",
       "  u'external_donor_name': u'205727',\n",
       "  u'full_genotype': None,\n",
       "  u'handedness': None,\n",
       "  u'id': 485955768,\n",
       "  u'initial_kps': None,\n",
       "  u'mgmt_ihc': None,\n",
       "  u'mgmt_methylation': None,\n",
       "  u'molecular_subtype': None,\n",
       "  u'multifocal': None,\n",
       "  u'name': u'Rbp4-Cre_KL100;Ai14-205727',\n",
       "  u'organism': {u'id': 2,\n",
       "   u'name': u'Mus musculus',\n",
       "   u'ncbitaxonomyid': 10090,\n",
       "   u'tags': u'mouse rodent Mus musculus'},\n",
       "  u'organism_id': 2,\n",
       "  u'pmi': None,\n",
       "  u'primary_tissue_source': None,\n",
       "  u'pten_deletion': None,\n",
       "  u'race_only': None,\n",
       "  u'radiation_therapy': None,\n",
       "  u'recurrence_by_six_months': None,\n",
       "  u'sex': u'F',\n",
       "  u'sex_full_name': u'Female',\n",
       "  u'sleep_state': None,\n",
       "  u'smoker': None,\n",
       "  u'strain': None,\n",
       "  u'strain_only': u'',\n",
       "  u'survival_days': None,\n",
       "  u'tags': u'Rbp4-Cre_KL100;Ai14-205727 ',\n",
       "  u'theiler_stage': None,\n",
       "  u'time_to_progression_or_recurrence': None,\n",
       "  u'transgenic_lines': [{u'ar_association_key_name': u'504923434',\n",
       "    u'description': u'tdTomato fluorescent protein is expressed in cytoplasm',\n",
       "    u'id': 177836291,\n",
       "    u'name': u'Ai14(RCL-tdT)',\n",
       "    u'originating_lab': u'Allen Institute for Brain Science',\n",
       "    u'stock_number': u'007914',\n",
       "    u'sub_image_annotation_id': 21592,\n",
       "    u'transgenic_line_source_name': u'JAX',\n",
       "    u'transgenic_line_type_code': u'R',\n",
       "    u'transgenic_line_type_name': u'reporter',\n",
       "    u'url_prefix': u'http://jaxmice.jax.org/strain/',\n",
       "    u'url_suffix': u'.html'},\n",
       "   {u'ar_association_key_name': u'485673563',\n",
       "    u'description': u'Enriched in cortical layer 5 and the dentate gyrus.',\n",
       "    u'id': 177838435,\n",
       "    u'name': u'Rbp4-Cre_KL100',\n",
       "    u'originating_lab': u'Nathaniel Heintz and Charles Gerfen',\n",
       "    u'stock_number': u'031125',\n",
       "    u'sub_image_annotation_id': 120818676,\n",
       "    u'transgenic_line_source_name': u'MMRRC',\n",
       "    u'transgenic_line_type_code': u'D',\n",
       "    u'transgenic_line_type_name': u'driver',\n",
       "    u'url_prefix': u'http://www.mmrrc.org/catalog/getSDS.jsp?mmrrc_id=',\n",
       "    u'url_suffix': None}],\n",
       "  u'transgenic_mouse_id': None,\n",
       "  u'tumor_status': None,\n",
       "  u'weight_grams': None},\n",
       " u'donor_id': 485955768,\n",
       " u'ephys_features': [{u'adaptation': 0.0273018032267714,\n",
       "   u'avg_isi': 98.9194444444445,\n",
       "   u'electrode_0_pa': -17.0699999274548,\n",
       "   u'f_i_curve_slope': 0.168939386460624,\n",
       "   u'fast_trough_t_long_square': 1.10762,\n",
       "   u'fast_trough_t_ramp': 5.15272666666667,\n",
       "   u'fast_trough_t_short_square': 1.025241,\n",
       "   u'fast_trough_v_long_square': -43.5000038146973,\n",
       "   u'fast_trough_v_ramp': -46.6041704813639,\n",
       "   u'fast_trough_v_short_square': -52.6125015258789,\n",
       "   u'has_burst': False,\n",
       "   u'has_delay': False,\n",
       "   u'has_pause': False,\n",
       "   u'id': 486125048,\n",
       "   u'input_resistance_mohm': 138.625328,\n",
       "   u'latency': 0.04128,\n",
       "   u'peak_t_long_square': 1.10481,\n",
       "   u'peak_t_ramp': 5.15021,\n",
       "   u'peak_t_short_square': 1.02349,\n",
       "   u'peak_v_long_square': 41.40625,\n",
       "   u'peak_v_ramp': 42.8125,\n",
       "   u'peak_v_short_square': 40.9000007629395,\n",
       "   u'rheobase_sweep_id': 486115700,\n",
       "   u'rheobase_sweep_number': 50,\n",
       "   u'ri': 113.281324505806,\n",
       "   u'sag': 0.164126828312874,\n",
       "   u'seal_gohm': 2.89088384,\n",
       "   u'slow_trough_t_long_square': 1.134815,\n",
       "   u'slow_trough_t_ramp': 5.19458333333333,\n",
       "   u'slow_trough_t_short_square': 1.086866,\n",
       "   u'slow_trough_v_long_square': -52.6250038146973,\n",
       "   u'slow_trough_v_ramp': -56.2604204813639,\n",
       "   u'slow_trough_v_short_square': -70.4187545776367,\n",
       "   u'specimen_id': 486111903,\n",
       "   u'tau': 13.4291785026162,\n",
       "   u'threshold_i_long_square': 209.999984741211,\n",
       "   u'threshold_i_ramp': 103.25,\n",
       "   u'threshold_i_short_square': 969.999938964844,\n",
       "   u'threshold_t_long_square': 1.104375,\n",
       "   u'threshold_t_ramp': 5.14977,\n",
       "   u'threshold_t_short_square': 1.023123,\n",
       "   u'threshold_v_long_square': -36.03125,\n",
       "   u'threshold_v_ramp': -38.0625038146973,\n",
       "   u'threshold_v_short_square': -45.4000030517578,\n",
       "   u'thumbnail_sweep_id': 486115704,\n",
       "   u'trough_t_long_square': 1.134815,\n",
       "   u'trough_t_ramp': 5.19458333333333,\n",
       "   u'trough_t_short_square': 1.086866,\n",
       "   u'trough_v_long_square': -52.6250038146973,\n",
       "   u'trough_v_ramp': -56.2604204813639,\n",
       "   u'trough_v_short_square': -70.4187545776367,\n",
       "   u'upstroke_downstroke_ratio_long_square': 3.94154930536264,\n",
       "   u'upstroke_downstroke_ratio_ramp': 3.61017106012998,\n",
       "   u'upstroke_downstroke_ratio_short_square': 3.34298067265536,\n",
       "   u'vm_for_sag': -81.6562576293945,\n",
       "   u'vrest': -69.3053436279297}],\n",
       " u'ephys_result_id': 486111901,\n",
       " u'external_specimen_name': None,\n",
       " u'failed_facet': 734881840,\n",
       " u'has_morphology': True,\n",
       " u'has_reconstruction': True,\n",
       " u'hemisphere': u'right',\n",
       " u'id': 486111903,\n",
       " u'is_cell_specimen': True,\n",
       " u'is_ish': False,\n",
       " u'name': u'Rbp4-Cre_KL100;Ai14-205727.03.02.01',\n",
       " u'neuron_reconstructions': [{u'average_bifurcation_angle_local': 78.8411496684201,\n",
       "   u'average_bifurcation_angle_remote': None,\n",
       "   u'average_contraction': 0.901911147546668,\n",
       "   u'average_diameter': 0.441493668982764,\n",
       "   u'average_fragmentation': 36.9803921568627,\n",
       "   u'average_parent_daughter_ratio': 0.820847194289554,\n",
       "   u'hausdorff_dimension': None,\n",
       "   u'id': 500961607,\n",
       "   u'max_branch_order': 22.0,\n",
       "   u'max_euclidean_distance': 652.889561376241,\n",
       "   u'max_path_distance': 747.589275198399,\n",
       "   u'neuron_reconstruction_type': u'dendrite-only',\n",
       "   u'number_bifurcations': 51,\n",
       "   u'number_branches': 111,\n",
       "   u'number_nodes': 3993,\n",
       "   u'number_stems': 9,\n",
       "   u'number_tips': 60,\n",
       "   u'overall_depth': 147.1125,\n",
       "   u'overall_height': 752.430029091729,\n",
       "   u'overall_width': 273.37748865367,\n",
       "   u'scale_factor_x': 0.1144,\n",
       "   u'scale_factor_y': 0.1144,\n",
       "   u'scale_factor_z': 0.28,\n",
       "   u'soma_surface': 665.13122338309,\n",
       "   u'specimen_id': 486111903,\n",
       "   u'tags': u'3D Neuron Reconstruction morphology',\n",
       "   u'total_length': 4714.02043037014,\n",
       "   u'total_surface': 6548.33578547266,\n",
       "   u'total_volume': 854.863182585245}],\n",
       " u'parent_id': 486105943,\n",
       " u'parent_x_coord': 0,\n",
       " u'parent_y_coord': 0,\n",
       " u'parent_z_coord': 1,\n",
       " u'pinned_radius': None,\n",
       " u'reporter_status': u'cre reporter negative',\n",
       " u'rna_integrity_number': None,\n",
       " u'species': u'Mus musculus',\n",
       " u'specimen_id_path': u'/485955770/486101014/486105943/486111903/',\n",
       " u'specimen_tags': [{u'ar_association_key_name': u'505808144',\n",
       "   u'description': None,\n",
       "   u'id': 470927414,\n",
       "   u'name': u'apical - intact'},\n",
       "  {u'ar_association_key_name': u'505808144',\n",
       "   u'description': None,\n",
       "   u'id': 470928297,\n",
       "   u'name': u'dendrite type - spiny'}],\n",
       " u'sphinx_id': 258327,\n",
       " u'structure': {u'acronym': u'VISp5',\n",
       "  u'atlas_id': 1087,\n",
       "  u'color_hex_triplet': u'08858C',\n",
       "  u'depth': 8,\n",
       "  u'failed': False,\n",
       "  u'failed_facet': 734881840,\n",
       "  u'graph_id': 1,\n",
       "  u'graph_order': 189,\n",
       "  u'hemisphere_id': 3,\n",
       "  u'id': 778,\n",
       "  u'name': u'Primary visual area, layer 5',\n",
       "  u'neuro_name_structure_id': None,\n",
       "  u'neuro_name_structure_id_path': None,\n",
       "  u'ontology_id': 1,\n",
       "  u'parent_structure_id': 385,\n",
       "  u'safe_name': u'Primary visual area layer 5',\n",
       "  u'sphinx_id': 190,\n",
       "  u'st_level': None,\n",
       "  u'structure_id_path': u'/997/8/567/688/695/315/669/385/778/',\n",
       "  u'structure_name_facet': 1453946728,\n",
       "  u'weight': 8690},\n",
       " u'structure_id': 778,\n",
       " u'tissue_ph': None,\n",
       " u'transgenic_line': u'Rbp4-Cre_KL100',\n",
       " u'treatment_id': 598634036,\n",
       " u'weight': 9000}"
      ]
     },
     "execution_count": 107,
     "metadata": {},
     "output_type": "execute_result"
    }
   ],
   "source": [
    "neurons_coll.find_one()"
   ]
  },
  {
   "cell_type": "code",
   "execution_count": 108,
   "metadata": {
    "ExecuteTime": {
     "end_time": "2018-03-02T21:27:10.080594Z",
     "start_time": "2018-03-02T21:27:10.027510Z"
    }
   },
   "outputs": [
    {
     "data": {
      "text/plain": [
       "{u'_id': ObjectId('5a99bcfa9d477a4072e45622'),\n",
       " u'_links': {u'measurements': {u'href': u'http://neuromorpho.org/api/morphometry/id/860'},\n",
       "  u'self': {u'href': u'http://neuromorpho.org/api/neuron/id/860'}},\n",
       " u'age_classification': u'adult',\n",
       " u'archive': u'Martone',\n",
       " u'attributes': u'Diameter, 3D, Angles',\n",
       " u'brain_region': [u'ventral striatum', u'nucleus accumbens'],\n",
       " u'cell_type': [u'medium spiny', u'principal cell'],\n",
       " u'corrected_value': None,\n",
       " u'corrected_xy': None,\n",
       " u'corrected_z': None,\n",
       " u'deposition_date': u'2005-12-31',\n",
       " u'domain': u'Dendrites, Soma, Axon',\n",
       " u'experiment_condition': u'Control',\n",
       " u'magnification': u'60',\n",
       " u'max_age': u'2.0',\n",
       " u'max_weight': None,\n",
       " u'min_age': u'2.0',\n",
       " u'min_weight': None,\n",
       " u'neuron_id': 860,\n",
       " u'neuron_name': u'ACC1',\n",
       " u'note': u'When originally released, this reconstruction had been incompletely processed, and this issue was fixed in release 6.1 (May 2015). The pre-6.1 version of the processed file is available for download <a href=\" dableFiles/previous/v6.1/martone/ACC1.CNG.swc \">here</a>.',\n",
       " u'objective_type': u'water',\n",
       " u'original_format': u'Neurolucida.asc',\n",
       " u'physical_Integrity': u'Dendrites Complete, Axon Incomplete',\n",
       " u'png_url': u'http://neuromorpho.org/images/imageFiles/Martone/ACC1.png',\n",
       " u'protocol': u'in vitro',\n",
       " u'reconstruction_software': u'Neurolucida',\n",
       " u'reference_doi': None,\n",
       " u'reference_pmid': None,\n",
       " u'reported_value': None,\n",
       " u'reported_xy': None,\n",
       " u'reported_z': None,\n",
       " u'scientific_name': u'',\n",
       " u'shrinkage_corrected': u'',\n",
       " u'shrinkage_reported': u'Not reported',\n",
       " u'slicing_direction': u'coronal',\n",
       " u'slicing_thickness': u'100.00',\n",
       " u'soma_surface': u'174.071',\n",
       " u'species': u'mouse',\n",
       " u'stain': u'lucifer yellow',\n",
       " u'strain': u'C57BL/6',\n",
       " u'surface': u'3489.29',\n",
       " u'upload_date': u'2006-08-01',\n",
       " u'volume': u'892.123'}"
      ]
     },
     "execution_count": 108,
     "metadata": {},
     "output_type": "execute_result"
    }
   ],
   "source": [
    "nmorpho_coll.find_one()"
   ]
  },
  {
   "cell_type": "code",
   "execution_count": 119,
   "metadata": {
    "ExecuteTime": {
     "end_time": "2018-03-05T08:40:55.556642Z",
     "start_time": "2018-03-05T08:40:54.928375Z"
    },
    "scrolled": false
   },
   "outputs": [],
   "source": [
    "celltypes = list(nmorpho_coll.aggregate(\n",
    "   [{\"$group\" : { \"_id\" : '$cell_type', \"count\" : {\"$sum\" : 1}}}]))"
   ]
  },
  {
   "cell_type": "code",
   "execution_count": 120,
   "metadata": {
    "ExecuteTime": {
     "end_time": "2018-03-05T08:41:00.038536Z",
     "start_time": "2018-03-05T08:40:59.971622Z"
    }
   },
   "outputs": [
    {
     "data": {
      "text/plain": [
       "397"
      ]
     },
     "execution_count": 120,
     "metadata": {},
     "output_type": "execute_result"
    }
   ],
   "source": [
    "len(celltypes)"
   ]
  },
  {
   "cell_type": "code",
   "execution_count": 125,
   "metadata": {
    "ExecuteTime": {
     "end_time": "2018-03-05T08:51:20.656978Z",
     "start_time": "2018-03-05T08:51:20.606849Z"
    }
   },
   "outputs": [
    {
     "data": {
      "text/plain": [
       "{u'_id': [u'principal cell', u'olivocerebellar', u'Climbing fiber'],\n",
       " u'count': 7}"
      ]
     },
     "execution_count": 125,
     "metadata": {},
     "output_type": "execute_result"
    }
   ],
   "source": [
    "celltypes[1]"
   ]
  },
  {
   "cell_type": "code",
   "execution_count": 121,
   "metadata": {
    "ExecuteTime": {
     "end_time": "2018-03-05T08:41:09.803922Z",
     "start_time": "2018-03-05T08:41:09.697505Z"
    }
   },
   "outputs": [
    {
     "data": {
      "text/plain": [
       "20567"
      ]
     },
     "execution_count": 121,
     "metadata": {},
     "output_type": "execute_result"
    }
   ],
   "source": [
    "nmorpho_coll.count()"
   ]
  },
  {
   "cell_type": "code",
   "execution_count": 122,
   "metadata": {
    "ExecuteTime": {
     "end_time": "2018-03-05T08:47:22.134442Z",
     "start_time": "2018-03-05T08:47:21.944848Z"
    }
   },
   "outputs": [
    {
     "data": {
      "text/plain": [
       "{u'_id': ObjectId('5a99bd509d477a4072e4a679'),\n",
       " u'bif_ampl_local': 93.2768,\n",
       " u'branch_Order': 113.0,\n",
       " u'contraction': 0.97921,\n",
       " u'depth': 100.5,\n",
       " u'diameter': 0.554892,\n",
       " u'eucDistance': 93.2874,\n",
       " u'fractal_Dim': 1.05337,\n",
       " u'fragmentation': 1427.0,\n",
       " u'height': 102.321,\n",
       " u'length': 1851.27,\n",
       " u'n_bifs': 394.0,\n",
       " u'n_branch': 793.0,\n",
       " u'n_stems': 5.0,\n",
       " u'neuron_id': 860,\n",
       " u'neuron_name': u'ACC1',\n",
       " u'partition_asymmetry': 0.957281,\n",
       " u'pathDistance': 162.339,\n",
       " u'pk_classic': 1.79627,\n",
       " u'soma_Surface': 174.071,\n",
       " u'surface': 3489.29,\n",
       " u'volume': 892.123,\n",
       " u'width': 66.7084}"
      ]
     },
     "execution_count": 122,
     "metadata": {},
     "output_type": "execute_result"
    }
   ],
   "source": [
    "morphology_coll.find_one()"
   ]
  },
  {
   "cell_type": "code",
   "execution_count": 123,
   "metadata": {
    "ExecuteTime": {
     "end_time": "2018-03-05T08:47:43.263261Z",
     "start_time": "2018-03-05T08:47:43.215283Z"
    }
   },
   "outputs": [
    {
     "data": {
      "text/plain": [
       "20568"
      ]
     },
     "execution_count": 123,
     "metadata": {},
     "output_type": "execute_result"
    }
   ],
   "source": [
    "morphology_coll.count()"
   ]
  }
 ],
 "metadata": {
  "kernelspec": {
   "display_name": "Python [conda env:python2]",
   "language": "python",
   "name": "conda-env-python2-py"
  },
  "language_info": {
   "codemirror_mode": {
    "name": "ipython",
    "version": 2
   },
   "file_extension": ".py",
   "mimetype": "text/x-python",
   "name": "python",
   "nbconvert_exporter": "python",
   "pygments_lexer": "ipython2",
   "version": "2.7.14"
  }
 },
 "nbformat": 4,
 "nbformat_minor": 2
}
