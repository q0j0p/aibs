{
 "cells": [
  {
   "cell_type": "markdown",
   "metadata": {},
   "source": [
    "#  Features \n",
    "\n",
    "\n",
    "- cell orientation \n",
    " - location of soma in standardized brain map \n",
    " - general axial orientation \n",
    " - location of projection termini\n",
    "- morphology \n",
    " - dendrite structure \n",
    " - number of branches \n",
    " - thickness "
   ]
  },
  {
   "cell_type": "code",
   "execution_count": 1,
   "metadata": {
    "ExecuteTime": {
     "end_time": "2018-03-05T22:48:16.361951Z",
     "start_time": "2018-03-05T22:48:13.592129Z"
    }
   },
   "outputs": [],
   "source": [
    "import pymongo \n",
    "import seaborn as sns\n",
    "import numpy as np\n",
    "sns.set()"
   ]
  },
  {
   "cell_type": "code",
   "execution_count": 2,
   "metadata": {
    "ExecuteTime": {
     "end_time": "2018-03-05T22:48:33.297217Z",
     "start_time": "2018-03-05T22:48:32.877991Z"
    }
   },
   "outputs": [
    {
     "name": "stdout",
     "output_type": "stream",
     "text": [
      "[u'nmorpho', u'morphology', u'neurons']\n"
     ]
    }
   ],
   "source": [
    "client = pymongo.MongoClient('mongodb://localhost/:27017')\n",
    "db = client.aibs \n",
    "print db.collection_names()\n",
    "n_coll = db.neurons"
   ]
  },
  {
   "cell_type": "code",
   "execution_count": null,
   "metadata": {
    "ExecuteTime": {
     "start_time": "2018-02-23T18:01:01.578Z"
    }
   },
   "outputs": [],
   "source": [
    "n_coll.find_one()"
   ]
  },
  {
   "cell_type": "code",
   "execution_count": null,
   "metadata": {
    "ExecuteTime": {
     "start_time": "2018-02-23T18:01:01.707Z"
    }
   },
   "outputs": [],
   "source": [
    "n_coll.count()"
   ]
  },
  {
   "cell_type": "code",
   "execution_count": 69,
   "metadata": {
    "ExecuteTime": {
     "end_time": "2018-02-23T02:40:53.796570Z",
     "start_time": "2018-02-23T02:40:53.713138Z"
    }
   },
   "outputs": [
    {
     "data": {
      "text/plain": [
       "402"
      ]
     },
     "execution_count": 69,
     "metadata": {},
     "output_type": "execute_result"
    }
   ],
   "source": [
    "# remove duplicates \n",
    "len(list(n_coll.aggregate([{'$group':{'_id':'$id', 'count' : {'$sum' : 1}}}])))"
   ]
  },
  {
   "cell_type": "code",
   "execution_count": 68,
   "metadata": {
    "ExecuteTime": {
     "end_time": "2018-02-23T02:40:27.069980Z",
     "start_time": "2018-02-23T02:40:26.991948Z"
    },
    "scrolled": false
   },
   "outputs": [
    {
     "data": {
      "text/plain": [
       "[9000, 9000, 9000]"
      ]
     },
     "execution_count": 68,
     "metadata": {},
     "output_type": "execute_result"
    }
   ],
   "source": [
    "[a['weight'] for a in n_coll.find({'id':576095991})]"
   ]
  },
  {
   "cell_type": "code",
   "execution_count": 78,
   "metadata": {
    "ExecuteTime": {
     "end_time": "2018-02-23T03:02:19.949996Z",
     "start_time": "2018-02-23T03:02:19.771059Z"
    }
   },
   "outputs": [],
   "source": [
    "def remove_dupes(coll):\n",
    "    cursor = coll.aggregate(\n",
    "        [\n",
    "            {\"$group\": {\"_id\": \"$id\", \"unique_ids\": {\"$addToSet\": \"$_id\"}, \"count\": {\"$sum\": 1}}},\n",
    "            {\"$match\": {\"count\": { \"$gte\": 2 }}}\n",
    "        ])\n",
    "\n",
    "    response = []\n",
    "    for doc in cursor:\n",
    "        del doc[\"unique_ids\"][0]\n",
    "        for id in doc[\"unique_ids\"]:\n",
    "            response.append(id)\n",
    "\n",
    "    coll.remove({\"_id\": {\"$in\": response}})"
   ]
  },
  {
   "cell_type": "code",
   "execution_count": 93,
   "metadata": {
    "ExecuteTime": {
     "end_time": "2018-02-23T03:08:18.375205Z",
     "start_time": "2018-02-23T03:08:18.297189Z"
    }
   },
   "outputs": [
    {
     "data": {
      "text/plain": [
       "402"
      ]
     },
     "execution_count": 93,
     "metadata": {},
     "output_type": "execute_result"
    }
   ],
   "source": [
    "n_coll.count()"
   ]
  },
  {
   "cell_type": "code",
   "execution_count": 91,
   "metadata": {
    "ExecuteTime": {
     "end_time": "2018-02-23T03:06:50.573515Z",
     "start_time": "2018-02-23T03:06:50.505889Z"
    }
   },
   "outputs": [
    {
     "data": {
      "text/plain": [
       "[539653924]"
      ]
     },
     "execution_count": 91,
     "metadata": {},
     "output_type": "execute_result"
    }
   ],
   "source": [
    "list(a['id'] for a in n_coll.find({'_id': response[3]}))"
   ]
  },
  {
   "cell_type": "code",
   "execution_count": 7,
   "metadata": {
    "ExecuteTime": {
     "end_time": "2018-02-22T20:15:56.336793Z",
     "start_time": "2018-02-22T20:15:56.267149Z"
    },
    "scrolled": false
   },
   "outputs": [
    {
     "data": {
      "text/plain": [
       "[{u'adaptation': 0.0200246041488773,\n",
       "  u'avg_isi': 77.6227272727273,\n",
       "  u'electrode_0_pa': 19.1274981964362,\n",
       "  u'f_i_curve_slope': 0.275,\n",
       "  u'fast_trough_t_long_square': 1.330675,\n",
       "  u'fast_trough_t_ramp': 4.52297333333333,\n",
       "  u'fast_trough_t_short_square': 1.02486833333333,\n",
       "  u'fast_trough_v_long_square': -40.90625,\n",
       "  u'fast_trough_v_ramp': -44.5104166666667,\n",
       "  u'fast_trough_v_short_square': -47.1979204813639,\n",
       "  u'has_burst': False,\n",
       "  u'has_delay': False,\n",
       "  u'has_pause': False,\n",
       "  u'id': 483153893,\n",
       "  u'input_resistance_mohm': 116.738032,\n",
       "  u'latency': 0.0789650000000002,\n",
       "  u'peak_t_long_square': 1.32797,\n",
       "  u'peak_t_ramp': 4.52128333333333,\n",
       "  u'peak_t_short_square': 1.023465,\n",
       "  u'peak_v_long_square': 23.25,\n",
       "  u'peak_v_ramp': 42.5520846048991,\n",
       "  u'peak_v_short_square': 31.0312512715658,\n",
       "  u'rheobase_sweep_id': 475460278,\n",
       "  u'rheobase_sweep_number': 52,\n",
       "  u'ri': 182.968750596046,\n",
       "  u'sag': 0.0105836531147361,\n",
       "  u'seal_gohm': 1.536360832,\n",
       "  u'slow_trough_t_long_square': 1.37091,\n",
       "  u'slow_trough_t_ramp': 4.556065,\n",
       "  u'slow_trough_t_short_square': 1.488845,\n",
       "  u'slow_trough_v_long_square': -51.28125,\n",
       "  u'slow_trough_v_ramp': -52.2708358764648,\n",
       "  u'slow_trough_v_short_square': -76.9895858764648,\n",
       "  u'specimen_id': 475459689,\n",
       "  u'tau': 21.9868656339338,\n",
       "  u'threshold_i_long_square': 90.0,\n",
       "  u'threshold_i_ramp': 87.5416666666667,\n",
       "  u'threshold_i_short_square': 1050.0,\n",
       "  u'threshold_t_long_square': 1.32749,\n",
       "  u'threshold_t_ramp': 4.52090333333333,\n",
       "  u'threshold_t_short_square': 1.02312166666667,\n",
       "  u'threshold_v_long_square': -32.0625,\n",
       "  u'threshold_v_ramp': -34.4375025431315,\n",
       "  u'threshold_v_short_square': -35.4791692097982,\n",
       "  u'thumbnail_sweep_id': 475460282,\n",
       "  u'trough_t_long_square': 1.37091,\n",
       "  u'trough_t_ramp': 4.556065,\n",
       "  u'trough_t_short_square': 1.488845,\n",
       "  u'trough_v_long_square': -51.28125,\n",
       "  u'trough_v_ramp': -52.2708358764648,\n",
       "  u'trough_v_short_square': -76.9895858764648,\n",
       "  u'upstroke_downstroke_ratio_long_square': 2.93029720710992,\n",
       "  u'upstroke_downstroke_ratio_ramp': 3.56738393852837,\n",
       "  u'upstroke_downstroke_ratio_short_square': 2.80144732118849,\n",
       "  u'vm_for_sag': -95.0312576293945,\n",
       "  u'vrest': -76.0704803466797}]"
      ]
     },
     "execution_count": 7,
     "metadata": {},
     "output_type": "execute_result"
    }
   ],
   "source": [
    "n_coll.find_one()['ephys_features']"
   ]
  },
  {
   "cell_type": "code",
   "execution_count": 12,
   "metadata": {
    "ExecuteTime": {
     "end_time": "2018-02-22T21:24:35.679648Z",
     "start_time": "2018-02-22T21:24:35.629669Z"
    }
   },
   "outputs": [],
   "source": [
    "import numpy as np"
   ]
  },
  {
   "cell_type": "code",
   "execution_count": 36,
   "metadata": {
    "ExecuteTime": {
     "end_time": "2018-02-22T21:30:36.566917Z",
     "start_time": "2018-02-22T21:30:36.423491Z"
    }
   },
   "outputs": [],
   "source": [
    "vrest = np.array([a['ephys_features'][0]['vrest'] for a in n_coll.find({'ephys_features.vrest':{'$exists':True}},['ephys_features.vrest'])])"
   ]
  },
  {
   "cell_type": "code",
   "execution_count": 45,
   "metadata": {
    "ExecuteTime": {
     "end_time": "2018-02-23T02:16:43.107713Z",
     "start_time": "2018-02-23T02:16:42.408127Z"
    },
    "scrolled": true
   },
   "outputs": [
    {
     "data": {
      "text/plain": [
       "<matplotlib.axes._subplots.AxesSubplot at 0x120ec35d0>"
      ]
     },
     "execution_count": 45,
     "metadata": {},
     "output_type": "execute_result"
    },
    {
     "data": {
      "image/png": "[encoded data removed]",
      "text/plain": [
       "<matplotlib.figure.Figure at 0x120ab1e50>"
      ]
     },
     "metadata": {},
     "output_type": "display_data"
    }
   ],
   "source": [
    "sns.distplot(vrest)"
   ]
  },
  {
   "cell_type": "code",
   "execution_count": null,
   "metadata": {},
   "outputs": [],
   "source": [
    "coll.find({'ephys_features.'})"
   ]
  },
  {
   "cell_type": "code",
   "execution_count": 18,
   "metadata": {
    "ExecuteTime": {
     "end_time": "2018-02-22T21:25:48.748244Z",
     "start_time": "2018-02-22T21:25:48.016556Z"
    }
   },
   "outputs": [],
   "source": [
    "import matplotlib.pyplot as plt \n",
    "%matplotlib inline"
   ]
  },
  {
   "cell_type": "code",
   "execution_count": 20,
   "metadata": {
    "ExecuteTime": {
     "end_time": "2018-02-22T21:26:10.591196Z",
     "start_time": "2018-02-22T21:26:10.531227Z"
    }
   },
   "outputs": [
    {
     "data": {
      "text/plain": [
       "array([{u'_id': ObjectId('5a7d00839d477ae99327342b')},\n",
       "       {u'_id': ObjectId('5a7d00839d477ae99327342c')},\n",
       "       {u'_id': ObjectId('5a7d00839d477ae99327342d')}, ...,\n",
       "       {u'_id': ObjectId('5a80d3bc9d477a1d615ee1b2')},\n",
       "       {u'_id': ObjectId('5a80d3bc9d477a1d615ee1b3')},\n",
       "       {u'_id': ObjectId('5a80d3bc9d477a1d615ee1b4')}], dtype=object)"
      ]
     },
     "execution_count": 20,
     "metadata": {},
     "output_type": "execute_result"
    }
   ],
   "source": [
    "vrest"
   ]
  },
  {
   "cell_type": "code",
   "execution_count": 8,
   "metadata": {
    "ExecuteTime": {
     "end_time": "2018-02-22T20:50:48.341642Z",
     "start_time": "2018-02-22T20:50:46.741795Z"
    }
   },
   "outputs": [],
   "source": [
    "import neurom as nm"
   ]
  }
 ],
 "metadata": {
  "kernelspec": {
   "display_name": "Python [conda root]",
   "language": "python",
   "name": "conda-root-py"
  },
  "language_info": {
   "codemirror_mode": {
    "name": "ipython",
    "version": 2
   },
   "file_extension": ".py",
   "mimetype": "text/x-python",
   "name": "python",
   "nbconvert_exporter": "python",
   "pygments_lexer": "ipython2",
   "version": "2.7.14"
  }
 },
 "nbformat": 4,
 "nbformat_minor": 2
}
