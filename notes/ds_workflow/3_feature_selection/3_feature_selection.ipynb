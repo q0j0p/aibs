{
 "cells": [
  {
   "cell_type": "code",
   "execution_count": 10,
   "metadata": {
    "ExecuteTime": {
     "end_time": "2018-03-05T23:17:35.846112Z",
     "start_time": "2018-03-05T23:17:35.293896Z"
    }
   },
   "outputs": [],
   "source": [
    "import os,sys"
   ]
  },
  {
   "cell_type": "code",
   "execution_count": 11,
   "metadata": {},
   "outputs": [],
   "source": [
    "sys.path.append('../..')"
   ]
  },
  {
   "cell_type": "code",
   "execution_count": 16,
   "metadata": {},
   "outputs": [],
   "source": [
    "from nid import features"
   ]
  },
  {
   "cell_type": "code",
   "execution_count": 13,
   "metadata": {
    "ExecuteTime": {
     "end_time": "2018-03-05T23:17:39.050463Z",
     "start_time": "2018-03-05T23:17:37.100847Z"
    }
   },
   "outputs": [],
   "source": [
    "import seaborn as sns\n",
    "sns.set()\n",
    "%matplotlib inline"
   ]
  },
  {
   "cell_type": "code",
   "execution_count": 14,
   "metadata": {},
   "outputs": [],
   "source": [
    "b=1"
   ]
  },
  {
   "cell_type": "code",
   "execution_count": 15,
   "metadata": {},
   "outputs": [
    {
     "data": {
      "text/plain": [
       "1"
      ]
     },
     "execution_count": 15,
     "metadata": {},
     "output_type": "execute_result"
    }
   ],
   "source": [
    "b"
   ]
  },
  {
   "cell_type": "code",
   "execution_count": null,
   "metadata": {},
   "outputs": [],
   "source": []
  },
  {
   "cell_type": "code",
   "execution_count": 17,
   "metadata": {
    "ExecuteTime": {
     "end_time": "2018-02-27T23:08:03.223849Z",
     "start_time": "2018-02-27T23:08:03.011952Z"
    },
    "scrolled": true
   },
   "outputs": [],
   "source": [
    "# load data \n",
    "n_df = features.load_data()"
   ]
  },
  {
   "cell_type": "code",
   "execution_count": null,
   "metadata": {
    "ExecuteTime": {
     "end_time": "2018-02-27T22:29:12.674473Z",
     "start_time": "2018-02-27T22:28:58.205699Z"
    }
   },
   "outputs": [],
   "source": [
    "# set data types \n",
    "n_df = features.set_dtypes(n_df)"
   ]
  },
  {
   "cell_type": "code",
   "execution_count": null,
   "metadata": {
    "ExecuteTime": {
     "end_time": "2018-02-27T04:55:51.666605Z",
     "start_time": "2018-02-27T04:55:51.588264Z"
    }
   },
   "outputs": [],
   "source": [
    "n_dtypes = n_df.dtypes.to_dict()"
   ]
  },
  {
   "cell_type": "code",
   "execution_count": null,
   "metadata": {
    "ExecuteTime": {
     "end_time": "2018-02-27T06:31:52.485390Z",
     "start_time": "2018-02-27T06:31:52.131333Z"
    }
   },
   "outputs": [],
   "source": [
    "n_dtypes"
   ]
  },
  {
   "cell_type": "code",
   "execution_count": null,
   "metadata": {
    "ExecuteTime": {
     "end_time": "2018-02-27T20:10:52.645197Z",
     "start_time": "2018-02-27T20:10:52.548413Z"
    },
    "scrolled": true
   },
   "outputs": [],
   "source": [
    "n_df.info()"
   ]
  },
  {
   "cell_type": "code",
   "execution_count": null,
   "metadata": {
    "ExecuteTime": {
     "end_time": "2018-02-27T20:10:26.100843Z",
     "start_time": "2018-02-27T20:10:26.014507Z"
    }
   },
   "outputs": [],
   "source": [
    "# WHere are the nans? \n",
    "features.show_nans(n_df2)"
   ]
  },
  {
   "cell_type": "markdown",
   "metadata": {
    "ExecuteTime": {
     "end_time": "2018-02-27T06:55:49.543361Z",
     "start_time": "2018-02-27T06:55:49.328350Z"
    }
   },
   "source": [
    "## remove columns "
   ]
  },
  {
   "cell_type": "code",
   "execution_count": null,
   "metadata": {
    "ExecuteTime": {
     "end_time": "2018-02-27T20:10:59.200688Z",
     "start_time": "2018-02-27T20:10:59.120351Z"
    }
   },
   "outputs": [],
   "source": [
    "n_df2 = features.remove_nans(n_df,[1,28,29,30,31,32,33], drop_rows=True)"
   ]
  },
  {
   "cell_type": "code",
   "execution_count": null,
   "metadata": {
    "ExecuteTime": {
     "end_time": "2018-02-27T20:18:06.120938Z",
     "start_time": "2018-02-27T20:18:06.047437Z"
    }
   },
   "outputs": [],
   "source": [
    "n_df2.columns"
   ]
  },
  {
   "cell_type": "code",
   "execution_count": null,
   "metadata": {
    "ExecuteTime": {
     "end_time": "2018-02-27T07:45:28.678432Z",
     "start_time": "2018-02-27T07:45:28.562259Z"
    }
   },
   "outputs": [],
   "source": [
    "import collections"
   ]
  },
  {
   "cell_type": "code",
   "execution_count": null,
   "metadata": {},
   "outputs": [],
   "source": [
    "collections.defaultdict"
   ]
  },
  {
   "cell_type": "code",
   "execution_count": null,
   "metadata": {
    "ExecuteTime": {
     "end_time": "2018-02-27T20:21:50.074973Z",
     "start_time": "2018-02-27T20:21:49.613995Z"
    }
   },
   "outputs": [],
   "source": [
    "label = features.get_labels(n_df2,'dendrite_type')"
   ]
  },
  {
   "cell_type": "code",
   "execution_count": null,
   "metadata": {
    "ExecuteTime": {
     "end_time": "2018-02-27T07:47:28.850395Z",
     "start_time": "2018-02-27T07:47:28.700810Z"
    },
    "scrolled": false
   },
   "outputs": [],
   "source": [
    "collections.Counter(label.values())"
   ]
  },
  {
   "cell_type": "code",
   "execution_count": null,
   "metadata": {
    "ExecuteTime": {
     "end_time": "2018-02-27T20:11:41.056180Z",
     "start_time": "2018-02-27T20:11:40.970395Z"
    }
   },
   "outputs": [],
   "source": [
    "droplist = [a for a in label if label[a] not in ['aspiny', 'spiny']]"
   ]
  },
  {
   "cell_type": "code",
   "execution_count": null,
   "metadata": {
    "ExecuteTime": {
     "end_time": "2018-02-27T20:22:19.806750Z",
     "start_time": "2018-02-27T20:22:19.742286Z"
    }
   },
   "outputs": [],
   "source": [
    "n_df3 = n_df2.drop(index=n_df2.index[n_df2['index'].isin(droplist).values])"
   ]
  },
  {
   "cell_type": "code",
   "execution_count": null,
   "metadata": {
    "ExecuteTime": {
     "end_time": "2018-02-27T20:17:29.805728Z",
     "start_time": "2018-02-27T20:17:29.721385Z"
    }
   },
   "outputs": [],
   "source": [
    "n_df3.columns"
   ]
  },
  {
   "cell_type": "code",
   "execution_count": null,
   "metadata": {
    "ExecuteTime": {
     "end_time": "2018-02-27T20:22:31.999615Z",
     "start_time": "2018-02-27T20:22:31.582275Z"
    },
    "scrolled": true
   },
   "outputs": [],
   "source": [
    "labels = features.get_labels(n_df3,'dendrite_type')"
   ]
  },
  {
   "cell_type": "code",
   "execution_count": null,
   "metadata": {
    "ExecuteTime": {
     "end_time": "2018-02-27T20:22:45.048899Z",
     "start_time": "2018-02-27T20:22:44.982743Z"
    }
   },
   "outputs": [],
   "source": [
    "n_df4 = n_df3.drop(columns=['index','id','rheobase_sweep_number','rheobase_sweep_id','specimen_id','thumbnail_sweep_id'])"
   ]
  },
  {
   "cell_type": "code",
   "execution_count": null,
   "metadata": {
    "ExecuteTime": {
     "end_time": "2018-02-27T19:46:21.368056Z",
     "start_time": "2018-02-27T19:46:21.207497Z"
    }
   },
   "outputs": [],
   "source": [
    "from sklearn.feature_selection import SelectFromModel\n",
    "from sklearn.svm import LinearSVC\n",
    "from sklearn.pipeline import Pipeline\n",
    "from sklearn.ensemble import RandomForestClassifier\n"
   ]
  },
  {
   "cell_type": "code",
   "execution_count": null,
   "metadata": {
    "ExecuteTime": {
     "end_time": "2018-02-27T20:22:49.742847Z",
     "start_time": "2018-02-27T20:22:49.674137Z"
    }
   },
   "outputs": [],
   "source": [
    "X = n_df4.values"
   ]
  },
  {
   "cell_type": "code",
   "execution_count": null,
   "metadata": {
    "ExecuteTime": {
     "end_time": "2018-02-27T21:20:14.742038Z",
     "start_time": "2018-02-27T21:20:14.471029Z"
    }
   },
   "outputs": [],
   "source": [
    "y = np.array(labels.values())"
   ]
  },
  {
   "cell_type": "code",
   "execution_count": null,
   "metadata": {
    "ExecuteTime": {
     "end_time": "2018-02-27T20:22:52.130071Z",
     "start_time": "2018-02-27T20:22:52.041302Z"
    }
   },
   "outputs": [],
   "source": [
    "X.shape"
   ]
  },
  {
   "cell_type": "code",
   "execution_count": null,
   "metadata": {
    "ExecuteTime": {
     "end_time": "2018-02-27T20:26:08.760780Z",
     "start_time": "2018-02-27T20:26:08.701525Z"
    }
   },
   "outputs": [],
   "source": [
    "y = np.array(y=='spiny',dtype=int)"
   ]
  },
  {
   "cell_type": "code",
   "execution_count": null,
   "metadata": {
    "ExecuteTime": {
     "end_time": "2018-02-27T20:26:10.625650Z",
     "start_time": "2018-02-27T20:26:10.555674Z"
    }
   },
   "outputs": [],
   "source": [
    "y"
   ]
  },
  {
   "cell_type": "code",
   "execution_count": null,
   "metadata": {
    "ExecuteTime": {
     "end_time": "2018-02-27T19:48:13.882715Z",
     "start_time": "2018-02-27T19:48:13.812040Z"
    }
   },
   "outputs": [],
   "source": [
    "import numpy as np"
   ]
  },
  {
   "cell_type": "code",
   "execution_count": null,
   "metadata": {
    "ExecuteTime": {
     "end_time": "2018-02-27T20:01:59.395965Z",
     "start_time": "2018-02-27T20:01:59.232319Z"
    },
    "scrolled": true
   },
   "outputs": [],
   "source": [
    "clf = Pipeline([\n",
    "  ('feature_selection', SelectFromModel(LinearSVC(penalty=\"l1\"))),\n",
    "  ('classification', RandomForestClassifier())\n",
    "])\n",
    "clf.fit(X,y)"
   ]
  },
  {
   "cell_type": "code",
   "execution_count": null,
   "metadata": {
    "ExecuteTime": {
     "end_time": "2018-02-27T20:03:42.615202Z",
     "start_time": "2018-02-27T20:03:42.548281Z"
    }
   },
   "outputs": [],
   "source": [
    "clf = RandomForestClassifier()"
   ]
  },
  {
   "cell_type": "code",
   "execution_count": null,
   "metadata": {
    "ExecuteTime": {
     "end_time": "2018-02-27T20:04:24.357999Z",
     "start_time": "2018-02-27T20:04:24.256809Z"
    }
   },
   "outputs": [],
   "source": [
    "from sklearn.model_selection import train_test_split"
   ]
  },
  {
   "cell_type": "code",
   "execution_count": null,
   "metadata": {
    "ExecuteTime": {
     "end_time": "2018-02-27T21:23:21.852648Z",
     "start_time": "2018-02-27T21:23:21.787423Z"
    }
   },
   "outputs": [],
   "source": [
    "X_train, X_test, y_train, y_test = train_test_split(X,y,test_size=.20, random_state=42)"
   ]
  },
  {
   "cell_type": "code",
   "execution_count": null,
   "metadata": {
    "ExecuteTime": {
     "end_time": "2018-02-27T21:23:24.127131Z",
     "start_time": "2018-02-27T21:23:23.986499Z"
    },
    "scrolled": true
   },
   "outputs": [],
   "source": [
    "clf.fit(X_train,y_train)"
   ]
  },
  {
   "cell_type": "code",
   "execution_count": null,
   "metadata": {
    "ExecuteTime": {
     "end_time": "2018-02-27T21:23:24.346605Z",
     "start_time": "2018-02-27T21:23:24.279086Z"
    }
   },
   "outputs": [],
   "source": [
    "pred = clf.predict(X_test)"
   ]
  },
  {
   "cell_type": "code",
   "execution_count": null,
   "metadata": {
    "ExecuteTime": {
     "end_time": "2018-02-27T21:23:24.830424Z",
     "start_time": "2018-02-27T21:23:24.764801Z"
    }
   },
   "outputs": [],
   "source": [
    "from sklearn.metrics import accuracy_score"
   ]
  },
  {
   "cell_type": "code",
   "execution_count": null,
   "metadata": {
    "ExecuteTime": {
     "end_time": "2018-02-27T21:23:25.018056Z",
     "start_time": "2018-02-27T21:23:24.949646Z"
    },
    "scrolled": true
   },
   "outputs": [],
   "source": [
    "accuracy_score(pred,y_test)"
   ]
  },
  {
   "cell_type": "code",
   "execution_count": null,
   "metadata": {
    "ExecuteTime": {
     "end_time": "2018-02-27T21:23:25.218970Z",
     "start_time": "2018-02-27T21:23:25.124192Z"
    }
   },
   "outputs": [],
   "source": [
    "clf.feature_importances_"
   ]
  },
  {
   "cell_type": "code",
   "execution_count": null,
   "metadata": {
    "ExecuteTime": {
     "end_time": "2018-02-27T20:27:05.794399Z",
     "start_time": "2018-02-27T20:27:05.719761Z"
    }
   },
   "outputs": [],
   "source": [
    "zip(n_df4.columns,clf.feature_importances_)"
   ]
  },
  {
   "cell_type": "code",
   "execution_count": null,
   "metadata": {
    "ExecuteTime": {
     "end_time": "2018-02-27T20:37:28.538515Z",
     "start_time": "2018-02-27T20:37:28.472568Z"
    }
   },
   "outputs": [],
   "source": [
    "clf.feature_importances_.argsort()[::-1]"
   ]
  },
  {
   "cell_type": "code",
   "execution_count": null,
   "metadata": {
    "ExecuteTime": {
     "end_time": "2018-02-27T20:38:22.759003Z",
     "start_time": "2018-02-27T20:38:22.682469Z"
    }
   },
   "outputs": [],
   "source": [
    "n_df4.columns[clf.feature_importances_.argsort()[::-1]].values"
   ]
  },
  {
   "cell_type": "code",
   "execution_count": null,
   "metadata": {},
   "outputs": [],
   "source": []
  }
 ],
 "metadata": {
  "kernelspec": {
   "display_name": "Python [default]",
   "language": "python",
   "name": "python2"
  },
  "language_info": {
   "codemirror_mode": {
    "name": "ipython",
    "version": 2
   },
   "file_extension": ".py",
   "mimetype": "text/x-python",
   "name": "python",
   "nbconvert_exporter": "python",
   "pygments_lexer": "ipython2",
   "version": "2.7.14"
  }
 },
 "nbformat": 4,
 "nbformat_minor": 2
}
