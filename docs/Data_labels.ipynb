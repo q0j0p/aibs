{
 "cells": [
  {
   "cell_type": "code",
   "execution_count": 2,
   "metadata": {},
   "outputs": [],
   "source": [
    "import pymongo\n",
    "import pandas as pd\n",
    "import collections"
   ]
  },
  {
   "cell_type": "markdown",
   "metadata": {},
   "source": [
    "## Find the labels of cells in the *drosophila* database\n",
    "\n",
    "from [note](../raw/notes/180517thu.ipynb)"
   ]
  },
  {
   "cell_type": "code",
   "execution_count": 3,
   "metadata": {},
   "outputs": [
    {
     "data": {
      "text/plain": [
       "{'_id': ObjectId('5a99bcfa9d477a4072e45622'),\n",
       " 'corrected_z': None,\n",
       " 'domain': 'Dendrites, Soma, Axon',\n",
       " 'protocol': 'in vitro',\n",
       " 'experiment_condition': 'Control',\n",
       " 'scientific_name': '',\n",
       " 'original_format': 'Neurolucida.asc',\n",
       " 'reference_doi': None,\n",
       " 'strain': 'C57BL/6',\n",
       " 'archive': 'Martone',\n",
       " 'max_age': '2.0',\n",
       " 'cell_type': ['medium spiny', 'principal cell'],\n",
       " 'slicing_thickness': '100.00',\n",
       " 'objective_type': 'water',\n",
       " 'reported_value': None,\n",
       " 'note': 'When originally released, this reconstruction had been incompletely processed, and this issue was fixed in release 6.1 (May 2015). The pre-6.1 version of the processed file is available for download <a href=\" dableFiles/previous/v6.1/martone/ACC1.CNG.swc \">here</a>.',\n",
       " 'magnification': '60',\n",
       " '_links': {'self': {'href': 'http://neuromorpho.org/api/neuron/id/860'},\n",
       "  'measurements': {'href': 'http://neuromorpho.org/api/morphometry/id/860'}},\n",
       " 'age_classification': 'adult',\n",
       " 'shrinkage_reported': 'Not reported',\n",
       " 'stain': 'lucifer yellow',\n",
       " 'physical_Integrity': 'Dendrites Complete, Axon Incomplete',\n",
       " 'reported_xy': None,\n",
       " 'slicing_direction': 'coronal',\n",
       " 'reported_z': None,\n",
       " 'min_age': '2.0',\n",
       " 'volume': '892.123',\n",
       " 'corrected_value': None,\n",
       " 'surface': '3489.29',\n",
       " 'brain_region': ['ventral striatum', 'nucleus accumbens'],\n",
       " 'upload_date': '2006-08-01',\n",
       " 'max_weight': None,\n",
       " 'shrinkage_corrected': '',\n",
       " 'min_weight': None,\n",
       " 'soma_surface': '174.071',\n",
       " 'corrected_xy': None,\n",
       " 'neuron_id': 860,\n",
       " 'neuron_name': 'ACC1',\n",
       " 'png_url': 'http://neuromorpho.org/images/imageFiles/Martone/ACC1.png',\n",
       " 'reference_pmid': None,\n",
       " 'reconstruction_software': 'Neurolucida',\n",
       " 'species': 'mouse',\n",
       " 'attributes': 'Diameter, 3D, Angles',\n",
       " 'deposition_date': '2005-12-31'}"
      ]
     },
     "execution_count": 3,
     "metadata": {},
     "output_type": "execute_result"
    }
   ],
   "source": [
    "# Access the mongodb database containg neuromorpho collection\n",
    "client = pymongo.MongoClient(\"mongodb://localhost/27017/\")\n",
    "db = client.aibs\n",
    "nm_coll = db.nmorpho\n",
    "nm_coll.find_one()"
   ]
  },
  {
   "cell_type": "code",
   "execution_count": 19,
   "metadata": {},
   "outputs": [
    {
     "name": "stdout",
     "output_type": "stream",
     "text": [
      "There are 27934 drosophila cells.\n"
     ]
    }
   ],
   "source": [
    "# Get only the drosophila data\n",
    "drosophila = nm_coll.find({\"species\":\"drosophila melanogaster\"})\n",
    "print(f\"There are {drosophila.count()} drosophila cells.\")"
   ]
  },
  {
   "cell_type": "markdown",
   "metadata": {},
   "source": [
    "### `brain_region` and `cell_type` are label candidates"
   ]
  },
  {
   "cell_type": "code",
   "execution_count": 5,
   "metadata": {},
   "outputs": [
    {
     "data": {
      "text/html": [
       "<div>\n",
       "<style scoped>\n",
       "    .dataframe tbody tr th:only-of-type {\n",
       "        vertical-align: middle;\n",
       "    }\n",
       "\n",
       "    .dataframe tbody tr th {\n",
       "        vertical-align: top;\n",
       "    }\n",
       "\n",
       "    .dataframe thead th {\n",
       "        text-align: right;\n",
       "    }\n",
       "</style>\n",
       "<table border=\"1\" class=\"dataframe\">\n",
       "  <thead>\n",
       "    <tr style=\"text-align: right;\">\n",
       "      <th></th>\n",
       "      <th>brain_region</th>\n",
       "      <th>cell_type</th>\n",
       "    </tr>\n",
       "  </thead>\n",
       "  <tbody>\n",
       "    <tr>\n",
       "      <th>1173</th>\n",
       "      <td>[antennal lobe, glomerulus VC2]</td>\n",
       "      <td>[iPN, uniglomerular projection, principal cell]</td>\n",
       "    </tr>\n",
       "    <tr>\n",
       "      <th>1174</th>\n",
       "      <td>[antennal lobe, glomerulus DL5]</td>\n",
       "      <td>[iPN, uniglomerular projection, principal cell]</td>\n",
       "    </tr>\n",
       "    <tr>\n",
       "      <th>1175</th>\n",
       "      <td>[antennal lobe, glomerulus DL6]</td>\n",
       "      <td>[iPN, uniglomerular projection, principal cell]</td>\n",
       "    </tr>\n",
       "    <tr>\n",
       "      <th>1176</th>\n",
       "      <td>[antennal lobe, glomerulus VM3]</td>\n",
       "      <td>[iPN, uniglomerular projection, principal cell]</td>\n",
       "    </tr>\n",
       "    <tr>\n",
       "      <th>1177</th>\n",
       "      <td>[antennal lobe, glomerulus VM3]</td>\n",
       "      <td>[iPN, uniglomerular projection, principal cell]</td>\n",
       "    </tr>\n",
       "  </tbody>\n",
       "</table>\n",
       "</div>"
      ],
      "text/plain": [
       "                         brain_region  \\\n",
       "1173  [antennal lobe, glomerulus VC2]   \n",
       "1174  [antennal lobe, glomerulus DL5]   \n",
       "1175  [antennal lobe, glomerulus DL6]   \n",
       "1176  [antennal lobe, glomerulus VM3]   \n",
       "1177  [antennal lobe, glomerulus VM3]   \n",
       "\n",
       "                                            cell_type  \n",
       "1173  [iPN, uniglomerular projection, principal cell]  \n",
       "1174  [iPN, uniglomerular projection, principal cell]  \n",
       "1175  [iPN, uniglomerular projection, principal cell]  \n",
       "1176  [iPN, uniglomerular projection, principal cell]  \n",
       "1177  [iPN, uniglomerular projection, principal cell]  "
      ]
     },
     "execution_count": 5,
     "metadata": {},
     "output_type": "execute_result"
    }
   ],
   "source": [
    "# Load labels into pandas dataframe\n",
    "neuron_id, brain_region, cell_type = zip(*[(a[\"neuron_id\"],a[\"brain_region\"],a[\"cell_type\"]) for a in drosophila])\n",
    "data = {\"brain_region\":brain_region, \"cell_type\":cell_type}\n",
    "df = pd.DataFrame(data, index=neuron_id)\n",
    "df.head()"
   ]
  },
  {
   "cell_type": "markdown",
   "metadata": {},
   "source": [
    "### There are multiple labels per neuron.  \n",
    "\n",
    "Find the most common labels for cell_type and brain_region"
   ]
  },
  {
   "cell_type": "code",
   "execution_count": 9,
   "metadata": {},
   "outputs": [
    {
     "data": {
      "text/plain": [
       "[('Embryo-born Unknown neurotransmitter principal cell', 2620),\n",
       " ('Embryo-born GABAergic principal cell', 1616),\n",
       " ('day7 Born Unknown neurotransmitter principal cell', 854),\n",
       " ('Embryo-born cholinergic principal cell', 622),\n",
       " ('Embryo-born GABAergic interneuron', 617),\n",
       " ('Embryo-born Unknown neurotransmitter interneuron', 567),\n",
       " ('Embryo-born cholinergic interneuron', 567),\n",
       " ('day5 Born glutamatergic principal cell', 555),\n",
       " ('day4 Born glutamatergic principal cell', 532),\n",
       " ('principal cell Kenyon cell alpha-beta surface-targeting', 480),\n",
       " ('Embryo-born glutamatergic principal cell', 470),\n",
       " ('day6 Born glutamatergic principal cell', 452),\n",
       " ('day7 Born GABAergic principal cell', 450),\n",
       " ('day5 Born Unknown neurotransmitter principal cell', 407),\n",
       " ('day2 Born Unknown neurotransmitter principal cell', 377),\n",
       " ('day4 Born glutamatergic interneuron', 373),\n",
       " ('day4 Born Unknown neurotransmitter principal cell', 371),\n",
       " ('day7 Born glutamatergic principal cell', 368),\n",
       " ('day3 Born Unknown neurotransmitter principal cell', 352),\n",
       " ('day3 Born glutamatergic principal cell', 352)]"
      ]
     },
     "execution_count": 9,
     "metadata": {},
     "output_type": "execute_result"
    }
   ],
   "source": [
    "collections.Counter([\" \".join(a) for a in cell_type]).most_common(20)"
   ]
  },
  {
   "cell_type": "code",
   "execution_count": 27,
   "metadata": {},
   "outputs": [
    {
     "data": {
      "text/plain": [
       "{'_id': ObjectId('5ad653a59d477a7106d1c7ad'),\n",
       " 'neuron_id': 11377,\n",
       " 'neuron_name': '5-HT1B-F-000004',\n",
       " 'archive': 'Chiang',\n",
       " 'note': 'Cell types and Brain regions were assigned with a <a href=\" techDocFlyData.jsp?code=1\">heuristic process</a> based on available metadata. This dataset was processed with a <a href=\" techDocFlyData.jsp?code=2\">streamlined automated variant</a> of the standardization procedure, additional details of which are published <a href=\" http://www.ncbi.nlm.nih.gov/pubmed/?term=25576225\" target=\"_blank\"\">here</a>. Digital reconstruction used a <a href=\" http://www.ncbi.nlm.nih.gov/pubmed/?term=23028271\" target=\"_blank\">custom method</a> after image segmentation by Amira. The SWC units for the neurons in this dataset are not expressed in micrometers. The exact scaling factors, which are different for each neuron, are not known, but our approximate estimate is 0.32 in XY and 0.26 in Z. Thus, the morphometric measurements can be compared within other neurons of this archive, but not across the rest of the database.When originally released, this reconstruction had been incompletely processed, and this issue was fixed in release 7.0 (Sep 2015). The original files are still available for download <a href=\" dableFiles/previous/v7.0/Chiang.tar.gz \">here</a>. For any question or clarification, please <a href=\" mailto:nmadmin@gmu.edu\">contact us</a>.',\n",
       " 'age_classification': 'adult',\n",
       " 'brain_region': ['protocerebrum', 'Left Superior Dorsofrontal Protocerebrum'],\n",
       " 'cell_type': ['Embryo-born', 'Unknown neurotransmitter', 'principal cell'],\n",
       " 'species': 'drosophila melanogaster',\n",
       " 'strain': '5-HT1B-Gal4',\n",
       " 'scientific_name': '',\n",
       " 'stain': 'green fluorescent protein',\n",
       " 'experiment_condition': 'Control',\n",
       " 'protocol': 'in vivo',\n",
       " 'slicing_direction': 'whole mount',\n",
       " 'reconstruction_software': 'Custom',\n",
       " 'objective_type': 'water',\n",
       " 'original_format': 'Amira.am',\n",
       " 'domain': 'No Dendrites, No Soma, Axon',\n",
       " 'attributes': 'No Diameter, 3D, Angles',\n",
       " 'magnification': '40',\n",
       " 'upload_date': '2014-12-11',\n",
       " 'deposition_date': '2012-01-26',\n",
       " 'shrinkage_reported': 'Not reported',\n",
       " 'shrinkage_corrected': '',\n",
       " 'reported_value': None,\n",
       " 'reported_xy': None,\n",
       " 'reported_z': None,\n",
       " 'corrected_value': None,\n",
       " 'corrected_xy': None,\n",
       " 'corrected_z': None,\n",
       " 'soma_surface': None,\n",
       " 'surface': '2984.23',\n",
       " 'volume': '746.057',\n",
       " 'slicing_thickness': 'Not applicable',\n",
       " 'min_age': '5.0',\n",
       " 'max_age': '15.0',\n",
       " 'min_weight': None,\n",
       " 'max_weight': None,\n",
       " 'png_url': 'http://neuromorpho.org/images/imageFiles/Chiang/5-HT1B-F-000004.png',\n",
       " 'reference_pmid': None,\n",
       " 'reference_doi': None,\n",
       " 'physical_Integrity': 'Axon Complete',\n",
       " '_links': {'self': {'href': 'http://neuromorpho.org/api/neuron/id/11377'},\n",
       "  'measurements': {'href': 'http://neuromorpho.org/api/morphometry/id/11377'}}}"
      ]
     },
     "execution_count": 27,
     "metadata": {},
     "output_type": "execute_result"
    }
   ],
   "source": [
    "nm_coll.find_one({\"cell_type\":['Embryo-born', \"Unknown neurotransmitter\", \"principal cell\"]})"
   ]
  },
  {
   "cell_type": "code",
   "execution_count": null,
   "metadata": {},
   "outputs": [],
   "source": [
    "nm_coll.find({\"cell_type\": })"
   ]
  },
  {
   "cell_type": "code",
   "execution_count": 13,
   "metadata": {},
   "outputs": [
    {
     "data": {
      "text/plain": [
       "[('principal cell', 18488),\n",
       " ('interneuron', 8202),\n",
       " ('Embryo-born', 7931),\n",
       " ('Unknown neurotransmitter', 7237),\n",
       " ('glutamatergic', 6016),\n",
       " ('GABAergic', 3702),\n",
       " ('cholinergic', 3379),\n",
       " ('day7 Born', 3032),\n",
       " ('serotonergic', 2212),\n",
       " ('day2 Born', 2164),\n",
       " ('day5 Born', 2146),\n",
       " ('day3 Born', 2078),\n",
       " ('day4 Born', 2067),\n",
       " ('day1 Born', 1583),\n",
       " ('day6 Born', 1521),\n",
       " ('Kenyon cell', 1293),\n",
       " ('sensory receptor', 1090),\n",
       " ('alpha-beta', 1081),\n",
       " ('Multidendritic-dendritic arborization (DA)', 984),\n",
       " ('dopaminergic', 862)]"
      ]
     },
     "execution_count": 13,
     "metadata": {},
     "output_type": "execute_result"
    }
   ],
   "source": [
    "celltypes = set(a for b in cell_type for a in b)\n",
    "brainregion = set(a for b in brain_region for a in b)\n",
    "celltypes_list = list(a for b in cell_type for a in b)\n",
    "\n",
    "celltypes_counter = collections.Counter(celltypes_list)\n",
    "celltypes_counter.most_common(n=20)"
   ]
  },
  {
   "cell_type": "code",
   "execution_count": 14,
   "metadata": {},
   "outputs": [
    {
     "data": {
      "text/plain": [
       "[('protocerebrum', 9269),\n",
       " ('optic Lobe', 7106),\n",
       " ('medulla', 3853),\n",
       " ('ventrolateral neuropils', 2166),\n",
       " ('antennal lobe', 1972),\n",
       " ('Right Medulla', 1807),\n",
       " ('left', 1729),\n",
       " ('mushroom body', 1659),\n",
       " ('right', 1582),\n",
       " ('Right Mushroom Body', 1579),\n",
       " ('Left Lobula Complex', 1528),\n",
       " ('Left Medulla', 1512),\n",
       " ('Right Lobula Complex', 1511),\n",
       " ('Right Adult Central Complex', 1376),\n",
       " ('Left Adult Central Complex', 1315),\n",
       " ('Right Protocerebral Bridge', 1231),\n",
       " ('peripheral nervous system', 1177),\n",
       " ('left Lobula', 1140),\n",
       " ('Left Protocerebral Bridge', 1133),\n",
       " ('right Lobula', 1117)]"
      ]
     },
     "execution_count": 14,
     "metadata": {},
     "output_type": "execute_result"
    }
   ],
   "source": [
    "brainregion_list = list(a for b in brain_region for a in b)\n",
    "brainregion_counter = collections.Counter(brainregion_list)\n",
    "\n",
    "brainregion_counter.most_common(n=20)"
   ]
  },
  {
   "cell_type": "markdown",
   "metadata": {},
   "source": [
    "### Todo: \n",
    "- find out how these cells were labeled  \n",
    " * from Neuroinformatics. 2015 January ; 13(1): 127–129. doi:10.1007/s12021-014-9257-y: \n",
    "> * Neuron Type Assignment  \n",
    "The distinction between principal (projection) cells and (local) interneurons was based on the flycircuit.tw list of regions invaded by the neurite terminals of every neuron. We considered a neuron as an interneuron if 95% or more of its terminals were contained within the somatic region and its adjacent brain regions. Conversely, we marked a neuron as a principal cell if more than 5% of its terminals were found in non-adjacent regions. This definition yielded 10,079 principal cells and 5971 interneurons. We further sub-divided all neurons on the basis of their putative neurotransmitter and, lastly, by their birth date.\n",
    "\n",
    "- principal (projection) neurons should be relatively easy to distinguish from interneurons.  Create a binary classifier.  \n",
    "- How were putative neurontransmitters determined? See if neuron clusters form according to neurotransmitter labels.  "
   ]
  },
  {
   "cell_type": "code",
   "execution_count": null,
   "metadata": {},
   "outputs": [],
   "source": []
  }
 ],
 "metadata": {
  "kernelspec": {
   "display_name": "Python [conda env:aibs]",
   "language": "python",
   "name": "conda-env-aibs-py"
  },
  "language_info": {
   "codemirror_mode": {
    "name": "ipython",
    "version": 3
   },
   "file_extension": ".py",
   "mimetype": "text/x-python",
   "name": "python",
   "nbconvert_exporter": "python",
   "pygments_lexer": "ipython3",
   "version": "3.6.5"
  }
 },
 "nbformat": 4,
 "nbformat_minor": 2
}
