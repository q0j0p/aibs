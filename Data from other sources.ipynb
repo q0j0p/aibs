{
 "cells": [
  {
   "cell_type": "markdown",
   "metadata": {},
   "source": [
    "# Data from other sources - WIP\n",
    "\n",
    "### Neuromorpho \n",
    "\n",
    "Neuromorpho.org is a jsp website.  \n",
    "Scrape and download using selenium. "
   ]
  },
  {
   "cell_type": "code",
   "execution_count": null,
   "metadata": {
    "ExecuteTime": {
     "end_time": "2018-02-13T06:18:37.617063Z",
     "start_time": "2018-02-13T06:18:36.095452Z"
    }
   },
   "outputs": [],
   "source": [
    "%load_ext autoreload\n",
    "%autoreload 2\n",
    "%matplotlib inline"
   ]
  },
  {
   "cell_type": "code",
   "execution_count": null,
   "metadata": {
    "ExecuteTime": {
     "end_time": "2018-02-13T06:18:37.966845Z",
     "start_time": "2018-02-13T06:18:37.620258Z"
    }
   },
   "outputs": [],
   "source": [
    "import matplotlib.pyplot as plt\n",
    "import matplotlib.image as mpimg\n",
    "from bs4 import BeautifulSoup as BS\n",
    "import neuroncollector\n",
    "import time"
   ]
  },
  {
   "cell_type": "code",
   "execution_count": null,
   "metadata": {
    "ExecuteTime": {
     "end_time": "2018-02-13T06:18:43.071357Z",
     "start_time": "2018-02-13T06:18:37.970069Z"
    },
    "scrolled": true
   },
   "outputs": [],
   "source": [
    "scraper = neuroncollector.NeuroScraper(browser=\"Firefox\",machine='mac')"
   ]
  },
  {
   "cell_type": "code",
   "execution_count": null,
   "metadata": {
    "ExecuteTime": {
     "end_time": "2018-02-13T06:18:45.706378Z",
     "start_time": "2018-02-13T06:18:43.080523Z"
    }
   },
   "outputs": [],
   "source": [
    "scraper.driver.get('http://neuromorpho.org/byspecies.jsp')"
   ]
  },
  {
   "cell_type": "code",
   "execution_count": null,
   "metadata": {
    "ExecuteTime": {
     "end_time": "2018-02-13T06:18:46.990885Z",
     "start_time": "2018-02-13T06:18:45.738290Z"
    }
   },
   "outputs": [],
   "source": [
    "scraper.driver.get_screenshot_as_file(filename='sc.png')"
   ]
  },
  {
   "cell_type": "code",
   "execution_count": null,
   "metadata": {
    "ExecuteTime": {
     "end_time": "2018-02-13T06:18:48.130916Z",
     "start_time": "2018-02-13T06:18:46.994522Z"
    },
    "scrolled": false
   },
   "outputs": [],
   "source": [
    "plt.figure(figsize=(10,10))\n",
    "img=mpimg.imread('sc.png')\n",
    "imgplot = plt.imshow(img)\n",
    "plt.show()"
   ]
  },
  {
   "cell_type": "code",
   "execution_count": null,
   "metadata": {
    "ExecuteTime": {
     "end_time": "2018-02-13T06:18:48.221316Z",
     "start_time": "2018-02-13T06:18:48.134606Z"
    }
   },
   "outputs": [],
   "source": [
    "species = scraper.driver.find_elements_by_class_name('species')"
   ]
  },
  {
   "cell_type": "code",
   "execution_count": null,
   "metadata": {
    "ExecuteTime": {
     "end_time": "2018-02-13T06:18:48.359229Z",
     "start_time": "2018-02-13T06:18:48.234085Z"
    }
   },
   "outputs": [],
   "source": [
    "# Total number of species in neuromorpho database:\n",
    "len(species)"
   ]
  },
  {
   "cell_type": "code",
   "execution_count": null,
   "metadata": {
    "ExecuteTime": {
     "end_time": "2018-02-13T06:18:48.453125Z",
     "start_time": "2018-02-13T06:18:48.363548Z"
    }
   },
   "outputs": [],
   "source": [
    "scraper.driver.find_element_by_link_text('mouse')"
   ]
  },
  {
   "cell_type": "code",
   "execution_count": null,
   "metadata": {
    "ExecuteTime": {
     "end_time": "2018-02-13T06:18:48.766433Z",
     "start_time": "2018-02-13T06:18:48.457844Z"
    }
   },
   "outputs": [],
   "source": [
    "scraper.driver.find_element_by_link_text('mouse').click()"
   ]
  },
  {
   "cell_type": "code",
   "execution_count": null,
   "metadata": {
    "ExecuteTime": {
     "end_time": "2018-02-13T06:19:18.884374Z",
     "start_time": "2018-02-13T06:18:48.777051Z"
    }
   },
   "outputs": [],
   "source": [
    "time.sleep(30)"
   ]
  },
  {
   "cell_type": "code",
   "execution_count": null,
   "metadata": {
    "ExecuteTime": {
     "end_time": "2018-02-13T06:19:28.974299Z",
     "start_time": "2018-02-13T06:19:18.887556Z"
    }
   },
   "outputs": [],
   "source": [
    "scraper.driver.get_screenshot_as_file(filename='sc.png')\n",
    "plt.figure(figsize=(10,10))\n",
    "img=mpimg.imread('sc.png')\n",
    "imgplot = plt.imshow(img)\n",
    "plt.show()"
   ]
  },
  {
   "cell_type": "code",
   "execution_count": null,
   "metadata": {
    "ExecuteTime": {
     "end_time": "2018-02-13T06:19:29.758978Z",
     "start_time": "2018-02-13T06:19:28.978331Z"
    }
   },
   "outputs": [],
   "source": [
    "lvl2 = scraper.driver.find_elements_by_class_name('lvl2')"
   ]
  },
  {
   "cell_type": "code",
   "execution_count": null,
   "metadata": {
    "ExecuteTime": {
     "end_time": "2018-02-13T06:19:29.802930Z",
     "start_time": "2018-02-13T06:19:29.761719Z"
    }
   },
   "outputs": [],
   "source": [
    "len(lvl2)"
   ]
  },
  {
   "cell_type": "code",
   "execution_count": null,
   "metadata": {
    "ExecuteTime": {
     "end_time": "2018-02-13T06:19:38.026393Z",
     "start_time": "2018-02-13T06:19:29.806955Z"
    }
   },
   "outputs": [],
   "source": [
    "page = scraper.driver.page_source"
   ]
  },
  {
   "cell_type": "code",
   "execution_count": null,
   "metadata": {
    "ExecuteTime": {
     "end_time": "2018-02-13T06:20:07.141027Z",
     "start_time": "2018-02-13T06:19:38.029376Z"
    }
   },
   "outputs": [],
   "source": [
    "soup = BS(page, \"html.parser\")"
   ]
  },
  {
   "cell_type": "code",
   "execution_count": null,
   "metadata": {
    "ExecuteTime": {
     "end_time": "2018-02-13T06:20:08.701014Z",
     "start_time": "2018-02-13T06:20:07.143659Z"
    }
   },
   "outputs": [],
   "source": [
    "datasources = soup.findAll(\"font\", {\"class\": \"lvl2\"})"
   ]
  },
  {
   "cell_type": "code",
   "execution_count": null,
   "metadata": {
    "ExecuteTime": {
     "end_time": "2018-02-13T06:20:08.800972Z",
     "start_time": "2018-02-13T06:20:08.705642Z"
    },
    "scrolled": false
   },
   "outputs": [],
   "source": [
    "[a.text for a in datasources]"
   ]
  },
  {
   "cell_type": "code",
   "execution_count": null,
   "metadata": {
    "ExecuteTime": {
     "end_time": "2018-02-13T06:20:10.400002Z",
     "start_time": "2018-02-13T06:20:08.814776Z"
    }
   },
   "outputs": [],
   "source": [
    "brain_region = soup.findAll(\"font\", {\"class\": \"lvl3\"})"
   ]
  },
  {
   "cell_type": "code",
   "execution_count": null,
   "metadata": {
    "ExecuteTime": {
     "end_time": "2018-02-13T06:20:10.464800Z",
     "start_time": "2018-02-13T06:20:10.403775Z"
    }
   },
   "outputs": [],
   "source": [
    "set([a.text for a in brain_region])"
   ]
  },
  {
   "cell_type": "code",
   "execution_count": null,
   "metadata": {
    "ExecuteTime": {
     "end_time": "2018-02-13T06:20:12.068822Z",
     "start_time": "2018-02-13T06:20:10.476515Z"
    }
   },
   "outputs": [],
   "source": [
    "cell_types = soup.findAll(\"font\", {\"class\": \"lvl4\"})"
   ]
  },
  {
   "cell_type": "code",
   "execution_count": null,
   "metadata": {
    "ExecuteTime": {
     "end_time": "2018-02-13T06:20:12.139942Z",
     "start_time": "2018-02-13T06:20:12.073847Z"
    }
   },
   "outputs": [],
   "source": [
    "set([a.text for a in cell_types])  #Neuron types!  "
   ]
  },
  {
   "cell_type": "code",
   "execution_count": null,
   "metadata": {
    "ExecuteTime": {
     "end_time": "2018-02-13T06:20:13.812546Z",
     "start_time": "2018-02-13T06:20:12.143890Z"
    }
   },
   "outputs": [],
   "source": [
    "neurons = soup.findAll(\"a\", {\"class\": \"screenshot\"})"
   ]
  },
  {
   "cell_type": "code",
   "execution_count": null,
   "metadata": {
    "ExecuteTime": {
     "end_time": "2018-02-13T06:20:13.863766Z",
     "start_time": "2018-02-13T06:20:13.814989Z"
    }
   },
   "outputs": [],
   "source": [
    "# Number of neurons\n",
    "len(neurons)"
   ]
  },
  {
   "cell_type": "code",
   "execution_count": null,
   "metadata": {
    "ExecuteTime": {
     "end_time": "2018-02-13T06:20:15.617989Z",
     "start_time": "2018-02-13T06:20:13.867468Z"
    }
   },
   "outputs": [],
   "source": [
    "# Todo: For each data source, click on checkbox and download\n",
    "checkbox = soup.findAll(\"input\", {\"id\": \"mouse_chkbox\"})"
   ]
  },
  {
   "cell_type": "code",
   "execution_count": null,
   "metadata": {
    "ExecuteTime": {
     "end_time": "2018-02-13T06:20:15.751721Z",
     "start_time": "2018-02-13T06:20:15.622570Z"
    }
   },
   "outputs": [],
   "source": [
    "scraper.driver.find_element_by_name('Sig').click()"
   ]
  },
  {
   "cell_type": "code",
   "execution_count": null,
   "metadata": {
    "ExecuteTime": {
     "end_time": "2018-02-13T06:20:16.211217Z",
     "start_time": "2018-02-13T06:20:15.759369Z"
    }
   },
   "outputs": [],
   "source": [
    "scraper.driver.find_element_by_name('Aux').click()"
   ]
  },
  {
   "cell_type": "code",
   "execution_count": null,
   "metadata": {
    "ExecuteTime": {
     "end_time": "2018-02-12T23:17:26.414648Z",
     "start_time": "2018-02-12T23:17:26.060468Z"
    }
   },
   "outputs": [],
   "source": []
  },
  {
   "cell_type": "code",
   "execution_count": null,
   "metadata": {
    "ExecuteTime": {
     "end_time": "2018-02-13T06:20:16.807518Z",
     "start_time": "2018-02-13T06:20:16.215546Z"
    }
   },
   "outputs": [],
   "source": [
    "source_name = [a.text for a in checkbox]\n",
    "idnum = 2\n",
    "print(\"Clicking on {}\".format(source_name[idnum]))\n",
    "scraper.driver.find_elements_by_id('mouse_chkbox')[idnum].click()"
   ]
  },
  {
   "cell_type": "code",
   "execution_count": null,
   "metadata": {
    "ExecuteTime": {
     "end_time": "2018-02-13T06:20:19.460706Z",
     "start_time": "2018-02-13T06:20:16.811015Z"
    }
   },
   "outputs": [],
   "source": [
    "# Get selected files \n",
    "scraper.driver.find_element_by_xpath(\"//input[@value='Get SWC files of selected neurons']\").click()"
   ]
  },
  {
   "cell_type": "code",
   "execution_count": null,
   "metadata": {},
   "outputs": [],
   "source": []
  },
  {
   "cell_type": "code",
   "execution_count": null,
   "metadata": {
    "ExecuteTime": {
     "end_time": "2018-02-13T06:20:19.612385Z",
     "start_time": "2018-02-13T06:20:19.465882Z"
    },
    "scrolled": true
   },
   "outputs": [],
   "source": [
    "scraper.driver.window_handles"
   ]
  },
  {
   "cell_type": "code",
   "execution_count": null,
   "metadata": {
    "ExecuteTime": {
     "end_time": "2018-02-13T06:20:19.825393Z",
     "start_time": "2018-02-13T06:20:19.616190Z"
    }
   },
   "outputs": [],
   "source": [
    "scraper.driver.switch_to.window(scraper.driver.window_handles[1])"
   ]
  },
  {
   "cell_type": "code",
   "execution_count": null,
   "metadata": {
    "ExecuteTime": {
     "end_time": "2018-02-13T06:20:35.017249Z",
     "start_time": "2018-02-13T06:20:19.840507Z"
    }
   },
   "outputs": [],
   "source": [
    "time.sleep(15)"
   ]
  },
  {
   "cell_type": "code",
   "execution_count": null,
   "metadata": {
    "ExecuteTime": {
     "end_time": "2018-02-13T06:20:35.235369Z",
     "start_time": "2018-02-13T06:20:35.020945Z"
    },
    "scrolled": true
   },
   "outputs": [],
   "source": [
    "scraper.driver.find_element_by_name('yes').click()"
   ]
  },
  {
   "cell_type": "code",
   "execution_count": null,
   "metadata": {
    "ExecuteTime": {
     "end_time": "2018-02-13T06:20:35.817570Z",
     "start_time": "2018-02-13T06:20:35.244750Z"
    }
   },
   "outputs": [],
   "source": [
    "timer.sleep(10)"
   ]
  },
  {
   "cell_type": "code",
   "execution_count": null,
   "metadata": {
    "ExecuteTime": {
     "end_time": "2018-02-13T06:20:35.818791Z",
     "start_time": "2018-02-13T06:18:35.800Z"
    },
    "scrolled": true
   },
   "outputs": [],
   "source": [
    "scraper.driver.close()"
   ]
  },
  {
   "cell_type": "code",
   "execution_count": null,
   "metadata": {},
   "outputs": [],
   "source": []
  },
  {
   "cell_type": "code",
   "execution_count": null,
   "metadata": {
    "ExecuteTime": {
     "end_time": "2018-02-13T06:20:35.820693Z",
     "start_time": "2018-02-13T06:18:35.805Z"
    }
   },
   "outputs": [],
   "source": [
    "previdnum = idnum\n",
    "scraper.driver.switch_to.window(scraper.driver.window_handles[0])\n",
    "idnum = 7\n",
    "print(\"Clicking on {}\".format(source_name[idnum]))\n",
    "scraper.driver.find_elements_by_id('mouse_chkbox')[previdnum].click()\n",
    "scraper.driver.find_elements_by_id('mouse_chkbox')[idnum].click()\n",
    "# Get selected files \n",
    "scraper.driver.find_element_by_xpath(\"//input[@value='Get SWC files of selected neurons']\").click()\n",
    "time.sleep(2)\n",
    "scraper.driver.switch_to.window(scraper.driver.window_handles[1])\n",
    "time.sleep(15)\n",
    "scraper.driver.find_element_by_name('yes').click()\n",
    "time.sleep(10)\n",
    "scraper.driver.close()"
   ]
  },
  {
   "cell_type": "code",
   "execution_count": null,
   "metadata": {
    "ExecuteTime": {
     "end_time": "2018-02-13T06:20:35.823277Z",
     "start_time": "2018-02-13T06:18:35.808Z"
    }
   },
   "outputs": [],
   "source": [
    "# Todo: tidy up and create functions using notebook "
   ]
  }
 ],
 "metadata": {
  "kernelspec": {
   "display_name": "Python [conda env:python2]",
   "language": "python",
   "name": "conda-env-python2-py"
  }
 },
 "nbformat": 4,
 "nbformat_minor": 2
}
